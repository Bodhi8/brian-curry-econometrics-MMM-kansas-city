{
 "cells": [
  {
   "cell_type": "markdown",
   "id": "6de01496",
   "metadata": {},
   "source": [
    "\n",
    "# Consumer Choice — Multinomial Logit (MNL) — Python Notebook\n",
    "\n",
    "**When to Use**  \n",
    "- Modeling **discrete choices** among competing alternatives (e.g., brand selection, plan tiers, product variants).  \n",
    "- Estimating **price sensitivity**, **feature effects**, and **market shares** for scenario planning.  \n",
    "\n",
    "**Best Application**  \n",
    "- Assortment/pricing simulations where each decision maker selects **one** option from a mutually exclusive set.  \n",
    "- Conjoint/choice experiments and **share-of-preference** simulations.  \n",
    "\n",
    "**When Not to Use**  \n",
    "- When the **IIA (Independence of Irrelevant Alternatives)** assumption is likely violated (e.g., close substitutes / nested categories). Consider **nested** or **mixed logit**.  \n",
    "- When choices are **multiple (non-mutually exclusive)** or involve **quantity** decisions—use other discrete–continuous or count models.\n",
    "\n",
    "**How to Interpret Results**  \n",
    "- Coefficients enter **systematic utility**; signs indicate **direction** (e.g., negative for price).  \n",
    "- Exponentiated coefficients relate to **odds** between alternatives; changes in attributes shift **choice probabilities**.  \n",
    "- Simulate **elasticities** and **counterfactual shares** by altering attributes (prices, promos) and recomputing probabilities.\n"
   ]
  },
  {
   "cell_type": "code",
   "execution_count": null,
   "id": "270e753e",
   "metadata": {},
   "outputs": [],
   "source": [
    "\n",
    "import numpy as np\n",
    "import pandas as pd\n",
    "import matplotlib.pyplot as plt\n",
    "import statsmodels.api as sm\n",
    "\n",
    "pd.set_option('display.max_columns', 120)\n",
    "plt.rcParams['figure.figsize'] = (8,4)\n",
    "rng = np.random.default_rng(7)\n"
   ]
  },
  {
   "cell_type": "markdown",
   "id": "f116a5a8",
   "metadata": {},
   "source": [
    "### Data: Synthetic consumer choices among 3 brands with prices and promo features"
   ]
  },
  {
   "cell_type": "code",
   "execution_count": null,
   "id": "a1293d48",
   "metadata": {},
   "outputs": [],
   "source": [
    "\n",
    "n = 1500                      # number of consumers (trials)\n",
    "brands = ['A','B','C']        # three alternatives\n",
    "J = len(brands)\n",
    "\n",
    "# Generate individual-level price and a binary promo feature per brand\n",
    "base_price = {'A': 5.00, 'B': 4.50, 'C': 4.00}\n",
    "price = {b: base_price[b] + rng.normal(0, 0.4, n) for b in brands}\n",
    "promo = {b: rng.binomial(1, 0.25, n) for b in brands}   # e.g., shelf display/coupon\n",
    "\n",
    "# True utilities: brand-specific price sensitivity + promo lift\n",
    "beta_price = {'A': -0.9, 'B': -0.8, 'C': -0.7}\n",
    "beta_promo = {'A': 0.5, 'B': 0.6, 'C': 0.4}\n",
    "beta_brand_const = {'A': 0.4, 'B': 0.2, 'C': 0.0}   # brand preference constants\n",
    "\n",
    "U = np.zeros((n, J))\n",
    "for j, b in enumerate(brands):\n",
    "    U[:, j] = (beta_brand_const[b]\n",
    "               + beta_price[b] * price[b]\n",
    "               + beta_promo[b] * promo[b]\n",
    "               + rng.normal(0, 1, n))\n",
    "\n",
    "choice_idx = U.argmax(axis=1)\n",
    "choice = np.array(brands)[choice_idx]\n",
    "\n",
    "# Assemble long-format dataset for modeling\n",
    "rows = []\n",
    "for i in range(n):\n",
    "    for j, b in enumerate(brands):\n",
    "        rows.append({\n",
    "            'obs': i,\n",
    "            'brand': b,\n",
    "            'choice': int(choice[i] == b),\n",
    "            'price': float(price[b][i]),\n",
    "            'promo': int(promo[b][i]),\n",
    "        })\n",
    "\n",
    "df_long = pd.DataFrame(rows)\n",
    "df_long.head(6)\n"
   ]
  },
  {
   "cell_type": "markdown",
   "id": "1c207eb8",
   "metadata": {},
   "source": [
    "### Model Matrix: Brand dummies with brand-specific price and promo effects"
   ]
  },
  {
   "cell_type": "code",
   "execution_count": null,
   "id": "07033696",
   "metadata": {},
   "outputs": [],
   "source": [
    "\n",
    "# Reference alternative: set brand C as the base (no explicit dummy needed)\n",
    "df_long = df_long.assign(\n",
    "    brand_A = (df_long['brand'] == 'A').astype(int),\n",
    "    brand_B = (df_long['brand'] == 'B').astype(int)\n",
    ")\n",
    "\n",
    "# Interactions to allow brand-specific price/promo effects\n",
    "df_long['price_A'] = df_long['price'] * df_long['brand_A']\n",
    "df_long['price_B'] = df_long['price'] * df_long['brand_B']\n",
    "df_long['price_C'] = df_long['price'] * (1 - df_long['brand_A'] - df_long['brand_B'])\n",
    "\n",
    "df_long['promo_A'] = df_long['promo'] * df_long['brand_A']\n",
    "df_long['promo_B'] = df_long['promo'] * df_long['brand_B']\n",
    "df_long['promo_C'] = df_long['promo'] * (1 - df_long['brand_A'] - df_long['brand_B'])\n",
    "\n",
    "# Target and features\n",
    "y = df_long['choice']\n",
    "X = df_long[['brand_A','brand_B','price_A','price_B','price_C','promo_A','promo_B','promo_C']]\n",
    "X = sm.add_constant(X, prepend=True)\n"
   ]
  },
  {
   "cell_type": "markdown",
   "id": "dc6e670e",
   "metadata": {},
   "source": [
    "### Fit Multinomial Logit (base = Brand C)"
   ]
  },
  {
   "cell_type": "code",
   "execution_count": null,
   "id": "166a34cf",
   "metadata": {},
   "outputs": [],
   "source": [
    "\n",
    "mnl = sm.MNLogit(y, X)\n",
    "res = mnl.fit(method='newton', maxiter=200, disp=False)\n",
    "print(res.summary())\n"
   ]
  },
  {
   "cell_type": "markdown",
   "id": "a640f5f0",
   "metadata": {},
   "source": [
    "### In-Sample Predicted Shares"
   ]
  },
  {
   "cell_type": "code",
   "execution_count": null,
   "id": "efb309a8",
   "metadata": {},
   "outputs": [],
   "source": [
    "\n",
    "pred_probs = res.predict(X)  # columns correspond to outcomes 0/1 for \"choice\"; we need to reshape\n",
    "# For MNLogit with a binary y in long format, predictions map to P(choice=1) for each row.\n",
    "df_long['p_choose'] = pred_probs.values.flatten()\n",
    "\n",
    "# Aggregate to market share per brand\n",
    "pred_share = df_long.groupby('brand')['p_choose'].mean().rename('pred_share')\n",
    "obs_share = df_long.loc[df_long['choice']==1,'brand'].value_counts(normalize=True).rename('obs_share')\n",
    "shares = pd.concat([obs_share, pred_share], axis=1)\n",
    "shares\n"
   ]
  },
  {
   "cell_type": "markdown",
   "id": "a7dea25e",
   "metadata": {},
   "source": [
    "### Simulate Own/Cross Price Elasticities"
   ]
  },
  {
   "cell_type": "code",
   "execution_count": null,
   "id": "978b13a1",
   "metadata": {},
   "outputs": [],
   "source": [
    "\n",
    "def simulate_shares(df, model, Xcols):\n",
    "    Xsim = sm.add_constant(df[Xcols], prepend=True)\n",
    "    p = model.predict(Xsim).values.flatten()\n",
    "    tmp = df.copy()\n",
    "    tmp['p'] = p\n",
    "    return tmp.groupby('brand')['p'].mean()\n",
    "\n",
    "Xcols = ['brand_A','brand_B','price_A','price_B','price_C','promo_A','promo_B','promo_C']\n",
    "\n",
    "# Baseline shares\n",
    "base_shares = simulate_shares(df_long, res, Xcols)\n",
    "\n",
    "# Own-price elasticity for brand A: +1% price_A (approx by adding 1% to price for rows of brand A)\n",
    "df_own = df_long.copy()\n",
    "mask_A = df_own['brand']=='A'\n",
    "df_own.loc[mask_A, 'price_A'] *= 1.01\n",
    "shares_own = simulate_shares(df_own, res, Xcols)\n",
    "\n",
    "elas_A = ((shares_own['A'] - base_shares['A']) / base_shares['A']) / 0.01\n",
    "\n",
    "# Cross-price elasticity on brand B when A price increases 1%\n",
    "elas_B_wrt_A = ((shares_own['B'] - base_shares['B']) / base_shares['B']) / 0.01\n",
    "\n",
    "pd.DataFrame({\n",
    "    'baseline_share': base_shares.round(4),\n",
    "    'share_after_A_price+1%': shares_own.round(4)\n",
    "}), float(elas_A), float(elas_B_wrt_A)\n"
   ]
  },
  {
   "cell_type": "markdown",
   "id": "d5d920de",
   "metadata": {},
   "source": [
    "### Scenario: Brand B 10% price discount"
   ]
  },
  {
   "cell_type": "code",
   "execution_count": null,
   "id": "0ebd0bce",
   "metadata": {},
   "outputs": [],
   "source": [
    "\n",
    "df_disc = df_long.copy()\n",
    "mask_B = df_disc['brand']=='B'\n",
    "df_disc.loc[mask_B,'price_B'] *= 0.90\n",
    "shares_disc = simulate_shares(df_disc, res, Xcols)\n",
    "\n",
    "pd.DataFrame({\n",
    "    'baseline_share': base_shares.round(4),\n",
    "    'B_price_minus_10%': shares_disc.round(4)\n",
    "})\n"
   ]
  },
  {
   "cell_type": "markdown",
   "id": "803e3183",
   "metadata": {},
   "source": [
    "### IIA Check (Heuristic): Remove Brand C and Refit vs. Implied Odds"
   ]
  },
  {
   "cell_type": "code",
   "execution_count": null,
   "id": "6d67155a",
   "metadata": {},
   "outputs": [],
   "source": [
    "\n",
    "# Compare the log-odds A vs B with and without C present.\n",
    "# If IIA holds, odds(A/B) shouldn't change much when C is removed.\n",
    "\n",
    "# Subset to A/B rows\n",
    "AB = df_long[df_long['brand'].isin(['A','B'])].copy()\n",
    "y_ab = AB['choice']\n",
    "X_ab = AB[['brand_A','brand_B','price_A','price_B','price_C','promo_A','promo_B','promo_C']]\n",
    "X_ab = sm.add_constant(X_ab, prepend=True)\n",
    "mnl_ab = sm.MNLogit(y_ab, X_ab).fit(method='newton', maxiter=200, disp=False)\n",
    "\n",
    "# Compute average log-odds across dataset (A vs B) from full model vs A/B-only model\n",
    "# For simplicity, compare average predicted odds\n",
    "def avg_log_odds_A_vs_B(model, df):\n",
    "    # Compute probability of choosing the row's brand; separate into A and B\n",
    "    Xs = sm.add_constant(df[['brand_A','brand_B','price_A','price_B','price_C','promo_A','promo_B','promo_C']], prepend=True)\n",
    "    p = model.predict(Xs).values.flatten()\n",
    "    tmp = df.copy()\n",
    "    tmp['p'] = p\n",
    "    pA = tmp.loc[tmp['brand']=='A','p'].mean()\n",
    "    pB = tmp.loc[tmp['brand']=='B','p'].mean()\n",
    "    return np.log(pA / pB + 1e-9)\n",
    "\n",
    "llo_full = avg_log_odds_A_vs_B(res, AB)\n",
    "llo_ab = avg_log_odds_A_vs_B(mnl_ab, AB)\n",
    "delta = float(llo_ab - llo_full)\n",
    "delta\n"
   ]
  },
  {
   "cell_type": "markdown",
   "id": "1abad0a3",
   "metadata": {},
   "source": [
    "\n",
    "---\n",
    "\n",
    "### Practical Guidance\n",
    "- If the **IIA** diagnostic is large (odds shift when an option is removed), consider **nested** or **mixed logit**.  \n",
    "- Use **brand-specific** price coefficients to capture heterogeneous price sensitivity.  \n",
    "- For conjoint studies, build **alternative-specific attributes** and simulate **shares** under scenarios.\n",
    "\n",
    "### References (non-link citations)\n",
    "1. Train — *Discrete Choice Methods with Simulation*.  \n",
    "2. Greene — *Econometric Analysis*.  \n",
    "3. Rossi, Allenby & McCulloch — *Bayesian Statistics and Marketing*.\n"
   ]
  }
 ],
 "metadata": {},
 "nbformat": 4,
 "nbformat_minor": 5
}
