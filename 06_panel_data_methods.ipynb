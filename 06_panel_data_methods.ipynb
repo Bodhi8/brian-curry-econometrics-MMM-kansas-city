{
 "cells": [
  {
   "cell_type": "markdown",
   "id": "a7b9bbca",
   "metadata": {},
   "source": [
    "\n",
    "# Panel Data Methods — Fixed Effects (FE) & Random Effects (RE) — Python Notebook\n",
    "\n",
    "**When to Use**  \n",
    "- You have **repeated observations** for entities over time (stores, geos, users) and need to control for **unobserved, time‑invariant heterogeneity**.  \n",
    "- Estimating effects of time‑varying regressors (price, promotions, ad spend) while accounting for **entity‑specific baselines**.\n",
    "\n",
    "**Best Application**  \n",
    "- Measuring **advertising or price elasticity** across stores/geos over weeks.  \n",
    "- Policy changes / experiments staggered across entities, with **time fixed effects** to absorb common shocks.\n",
    "\n",
    "**When Not to Use**  \n",
    "- Cross‑section only (no panel) → use standard regression.  \n",
    "- Effects driven by **time‑invariant regressors** are not identifiable in FE (use RE or between estimators, or interact with time).  \n",
    "- Severe **dynamic panel bias** with lagged dependent variables; consider Arellano–Bond/GMM.\n",
    "\n",
    "**How to Interpret Results**  \n",
    "- **FE coefficients** measure within‑entity effects (e.g., how changing price *within* a store relates to sales).  \n",
    "- **RE coefficients** combine within & between variation, assuming entity effects are **uncorrelated** with regressors.  \n",
    "- Use a **Hausman test** to check if RE is consistent; if rejected, prefer FE.\n"
   ]
  },
  {
   "cell_type": "code",
   "execution_count": null,
   "id": "e9d4728b",
   "metadata": {},
   "outputs": [],
   "source": [
    "\n",
    "import numpy as np\n",
    "import pandas as pd\n",
    "import matplotlib.pyplot as plt\n",
    "import statsmodels.api as sm\n",
    "import statsmodels.formula.api as smf\n",
    "\n",
    "pd.set_option('display.max_columns', 200)\n",
    "plt.rcParams['figure.figsize'] = (8,4)\n",
    "rng = np.random.default_rng(2025)\n"
   ]
  },
  {
   "cell_type": "markdown",
   "id": "869e3bc3",
   "metadata": {},
   "source": [
    "### Data: Synthetic store‑week panel with price, promo, and ad spend"
   ]
  },
  {
   "cell_type": "code",
   "execution_count": null,
   "id": "a62f1dd5",
   "metadata": {},
   "outputs": [],
   "source": [
    "\n",
    "n_stores = 60\n",
    "n_weeks = 52\n",
    "\n",
    "store_ids = np.arange(n_stores)\n",
    "weeks = np.arange(1, n_weeks+1)\n",
    "\n",
    "rows = []\n",
    "for s in store_ids:\n",
    "    store_fe = rng.normal(0, 15)   # unobserved store baseline (e.g., location quality)\n",
    "    ad_effect = rng.normal(0.08, 0.02)  # allow mild heterogeneity on ad response\n",
    "    for t in weeks:\n",
    "        time_fe = 10*np.sin(2*np.pi*t/52) + 5*np.cos(2*np.pi*t/26)  # seasonal time effects\n",
    "        price = 9 + rng.normal(0, 0.7)\n",
    "        promo = rng.binomial(1, 0.22)\n",
    "        adsp = max(0, rng.normal(50, 12))\n",
    "        # DGP: sales depend on price(-), promo(+), adsp(+ diminishing), plus FE and time FE\n",
    "        sales = (200 + store_fe + time_fe\n",
    "                 - 8.0*price\n",
    "                 + 12.0*promo\n",
    "                 + 0.25*np.sqrt(adsp)\n",
    "                 + rng.normal(0, 8))\n",
    "        rows.append({'store': f\"S{s:02d}\", 'week': t, 'sales': sales,\n",
    "                     'price': price, 'promo': promo, 'ad_spend': adsp})\n",
    "\n",
    "df = pd.DataFrame(rows)\n",
    "df.head()\n"
   ]
  },
  {
   "cell_type": "markdown",
   "id": "605f855f",
   "metadata": {},
   "source": [
    "### Fixed Effects: Entity and Time FE via OLS with Dummies (Two‑Way FE)"
   ]
  },
  {
   "cell_type": "code",
   "execution_count": null,
   "id": "f75c0823",
   "metadata": {},
   "outputs": [],
   "source": [
    "\n",
    "# Two-way FE: absorb store and week effects using dummies\n",
    "# (Within estimator equivalent when using full set of dummies)\n",
    "fe_formula = \"sales ~ price + promo + np.sqrt(ad_spend) + C(store) + C(week)\"\n",
    "fe_model = smf.ols(fe_formula, data=df).fit(cov_type='cluster', cov_kwds={'groups': df['store']})\n",
    "print(fe_model.summary().tables[1])\n"
   ]
  },
  {
   "cell_type": "markdown",
   "id": "4f506298",
   "metadata": {},
   "source": [
    "### Random Effects: Random Intercepts with Mixed Effects (MixedLM)"
   ]
  },
  {
   "cell_type": "code",
   "execution_count": null,
   "id": "68c6239b",
   "metadata": {},
   "outputs": [],
   "source": [
    "\n",
    "# Mixed effects with random intercept for store and fixed time dummies\n",
    "# Use week FE to absorb common shocks, random intercept to capture store heterogeneity\n",
    "re_formula = \"sales ~ price + promo + np.sqrt(ad_spend) + C(week)\"\n",
    "# MixedLM requires separate groups column\n",
    "md = sm.MixedLM.from_formula(re_formula, groups=\"store\", re_formula=\"1\", data=df)\n",
    "re_model = md.fit()\n",
    "re_model.summary()\n"
   ]
  },
  {
   "cell_type": "markdown",
   "id": "332d16b1",
   "metadata": {},
   "source": [
    "### Compare Coefficients (FE vs RE)"
   ]
  },
  {
   "cell_type": "code",
   "execution_count": null,
   "id": "27b8923b",
   "metadata": {},
   "outputs": [],
   "source": [
    "\n",
    "coef_fe = fe_model.params[['price','promo','np.sqrt(ad_spend)']]\n",
    "se_fe = fe_model.bse[['price','promo','np.sqrt(ad_spend)']]\n",
    "\n",
    "coef_re = re_model.params[['price','promo','np.sqrt(ad_spend)']]\n",
    "se_re = re_model.bse[['price','promo','np.sqrt(ad_spend)']]\n",
    "\n",
    "pd.DataFrame({\n",
    "    'FE_coef': coef_fe.round(4),\n",
    "    'FE_se(clustered)': se_fe.round(4),\n",
    "    'RE_coef': coef_re.round(4),\n",
    "    'RE_se': se_re.round(4),\n",
    "})\n"
   ]
  },
  {
   "cell_type": "markdown",
   "id": "c838aa51",
   "metadata": {},
   "source": [
    "### Hausman Test: Is RE Consistent vs FE?"
   ]
  },
  {
   "cell_type": "code",
   "execution_count": null,
   "id": "fb1f09a2",
   "metadata": {},
   "outputs": [],
   "source": [
    "\n",
    "# Hausman statistic H = (b_RE - b_FE)' [Var(b_RE) - Var(b_FE)]^{-1} (b_RE - b_FE)\n",
    "import numpy as np\n",
    "\n",
    "b_fe = coef_fe.values\n",
    "b_re = coef_re.values\n",
    "\n",
    "V_fe = np.diag(se_fe.values**2)\n",
    "V_re = np.diag(se_re.values**2)\n",
    "V_diff = V_re - V_fe\n",
    "\n",
    "diff = (b_re - b_fe).reshape(-1,1)\n",
    "\n",
    "# Regularize if needed for invertibility\n",
    "eps = 1e-8\n",
    "try:\n",
    "    Vinv = np.linalg.inv(V_diff + eps*np.eye(V_diff.shape[0]))\n",
    "    H = float(diff.T @ Vinv @ diff)\n",
    "    df_h = len(b_fe)\n",
    "    from scipy.stats import chi2\n",
    "    pval = 1 - chi2.cdf(H, df_h)\n",
    "except np.linalg.LinAlgError:\n",
    "    H, pval, df_h = np.nan, np.nan, len(b_fe)\n",
    "\n",
    "{'Hausman_stat': H, 'df': df_h, 'p_value': pval}\n"
   ]
  },
  {
   "cell_type": "markdown",
   "id": "d06f4f49",
   "metadata": {},
   "source": [
    "### Interpretation: Within‑Store Effects and Practical Use"
   ]
  },
  {
   "cell_type": "code",
   "execution_count": null,
   "id": "d46c0ed0",
   "metadata": {},
   "outputs": [],
   "source": [
    "\n",
    "print(\"FE interpretation: coefficients reflect within‑store changes holding store and week effects constant.\")\n",
    "print(\"Price (expected negative), Promo (positive lift), sqrt(ad_spend) (diminishing returns).\")\n",
    "\n",
    "# Example: effect of +$10 ad spend at avg level\n",
    "avg_adsp = df['ad_spend'].mean()\n",
    "beta_ad = fe_model.params['np.sqrt(ad_spend)']\n",
    "d_sales = beta_ad * (np.sqrt(avg_adsp+10) - np.sqrt(avg_adsp))\n",
    "print(f\"Approx ΔSales from +$10 ad spend (at avg level): {d_sales:.3f}\")\n"
   ]
  },
  {
   "cell_type": "markdown",
   "id": "d5e5035e",
   "metadata": {},
   "source": [
    "\n",
    "---\n",
    "\n",
    "### Practical Guidance\n",
    "- Prefer **two‑way FE** (entity + time) to absorb unobserved heterogeneity and common shocks.  \n",
    "- Use **cluster‑robust SE** at the entity level.  \n",
    "- Check **Hausman**: if RE is rejected, stick with FE; otherwise RE (or mixed models) may be more efficient.  \n",
    "- For time‑invariant regressors, consider **RE** or **between** estimators.\n",
    "\n",
    "### References (non‑link citations)\n",
    "1. Wooldridge — *Econometric Analysis of Cross Section and Panel Data*.  \n",
    "2. Greene — *Econometric Analysis*.  \n",
    "3. Angrist & Pischke — *Mostly Harmless Econometrics*.\n"
   ]
  }
 ],
 "metadata": {},
 "nbformat": 4,
 "nbformat_minor": 5
}
